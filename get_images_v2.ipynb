{
 "cells": [
  {
   "cell_type": "code",
   "execution_count": 1,
   "metadata": {},
   "outputs": [],
   "source": [
    "import requests\n",
    "import os"
   ]
  },
  {
   "cell_type": "code",
   "execution_count": 2,
   "metadata": {},
   "outputs": [],
   "source": [
    "def get_images(taxonKey, limit=10):\n",
    "    # Definir a URL base da API do GBIF\n",
    "    base_url = \"https://api.gbif.org/v1/occurrence/search\"\n",
    " \n",
    "    # Substitua pelo UUID do publisher desejado\n",
    "    publishing_org = \"da86174a-a605-43a4-a5e8-53d484152cd3\"\n",
    "    \n",
    "    # Parâmetros da requisição\n",
    "    params = {\n",
    "        \"taxonKey\": taxonKey,\n",
    "        \"mediaType\": \"StillImage\",\n",
    "        \"publishingOrg\": publishing_org,\n",
    "        \"limit\": limit  # Limite de ocorrências por requisição\n",
    "    }\n",
    "    \n",
    "    # Fazer a requisição GET\n",
    "    response = requests.get(base_url, params=params)\n",
    "\n",
    "    # Verificar se a requisição foi bem-sucedida\n",
    "    if response.status_code == 200:\n",
    "        data = response.json()\n",
    "        occurrences = data[\"results\"]\n",
    "    else:\n",
    "        print(f\"Erro na requisição: {response.status_code}\")\n",
    "        occurrences = []\n",
    "    \n",
    "   # Filtrar URLs das imagens e identificar a parte da planta\n",
    "    images_info = []\n",
    "    for occurrence in occurrences:\n",
    "        if \"media\" in occurrence:\n",
    "            for media in occurrence[\"media\"]:\n",
    "                if media[\"type\"] == \"StillImage\":\n",
    "                    part = media.get(\"description\", \"Desconhecido\")\n",
    "                    images_info.append((media[\"identifier\"], part))\n",
    "    \n",
    "    return images_info "
   ]
  },
  {
   "cell_type": "code",
   "execution_count": 3,
   "metadata": {},
   "outputs": [],
   "source": [
    "def download_images(images_info, base_download_path='images'):\n",
    "\n",
    "    full_path = os.path.join('images', base_download_path)\n",
    "    # Criar diretório base para baixar as imagens, se não existir\n",
    "    if not os.path.exists(full_path):\n",
    "        os.makedirs(full_path)\n",
    "    \n",
    "    # Baixar as imagens e organizar em pastas por 'part'\n",
    "    for idx, (image_url, part) in enumerate(images_info):\n",
    "        # Extrair a parte após o caractere ':'\n",
    "        part_name = part.split(':')[-1].strip() if ':' in part else part\n",
    "        \n",
    "        # Criar o diretório para a parte específica, se não existir\n",
    "        part_dir = os.path.join(full_path, part_name)\n",
    "        if not os.path.exists(part_dir):\n",
    "            os.makedirs(part_dir)\n",
    "        \n",
    "        # Baixar a imagem\n",
    "        image_response = requests.get(image_url)\n",
    "        if image_response.status_code == 200:\n",
    "            image_path = os.path.join(part_dir, f'image_{idx+1}.jpg')\n",
    "            with open(image_path, 'wb') as f:\n",
    "                f.write(image_response.content)\n",
    "        else:\n",
    "            print(f\"Erro ao baixar imagem {idx+1}: {image_response.status_code}\")"
   ]
  },
  {
   "cell_type": "code",
   "execution_count": 4,
   "metadata": {},
   "outputs": [],
   "source": [
    "images = get_images(2855860, 600)\n",
    "download_images(images, 'cebolinha')"
   ]
  }
 ],
 "metadata": {
  "kernelspec": {
   "display_name": ".venv",
   "language": "python",
   "name": "python3"
  },
  "language_info": {
   "codemirror_mode": {
    "name": "ipython",
    "version": 3
   },
   "file_extension": ".py",
   "mimetype": "text/x-python",
   "name": "python",
   "nbconvert_exporter": "python",
   "pygments_lexer": "ipython3",
   "version": "3.12.3"
  }
 },
 "nbformat": 4,
 "nbformat_minor": 2
}
