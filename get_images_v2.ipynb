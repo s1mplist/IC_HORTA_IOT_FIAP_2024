{
 "cells": [
  {
   "cell_type": "code",
   "execution_count": 3,
   "metadata": {},
   "outputs": [],
   "source": [
    "import requests\n",
    "import os"
   ]
  },
  {
   "cell_type": "code",
   "execution_count": 7,
   "metadata": {},
   "outputs": [],
   "source": [
    "def get_images(taxonKey, limit=10):\n",
    "    # Definir a URL base da API do GBIF\n",
    "    base_url = \"https://api.gbif.org/v1/occurrence/search\"\n",
    " \n",
    "    # Substitua pelo UUID do publisher desejado\n",
    "    publishing_org = \"da86174a-a605-43a4-a5e8-53d484152cd3\"\n",
    "    \n",
    "    # Parâmetros da requisição\n",
    "    params = {\n",
    "        \"taxonKey\": taxonKey,\n",
    "        \"mediaType\": \"StillImage\",\n",
    "        \"publishingOrg\": publishing_org,\n",
    "        \"limit\": limit  # Limite de ocorrências por requisição\n",
    "    }\n",
    "    \n",
    "    # Fazer a requisição GET\n",
    "    response = requests.get(base_url, params=params)\n",
    "\n",
    "    # Verificar se a requisição foi bem-sucedida\n",
    "    if response.status_code == 200:\n",
    "        data = response.json()\n",
    "        occurrences = data[\"results\"]\n",
    "    else:\n",
    "        print(f\"Erro na requisição: {response.status_code}\")\n",
    "        occurrences = []\n",
    "    \n",
    "   # Filtrar URLs das imagens e identificar a parte da planta\n",
    "    images_info = []\n",
    "    for occurrence in occurrences:\n",
    "        if \"media\" in occurrence:\n",
    "            for media in occurrence[\"media\"]:\n",
    "                if media[\"type\"] == \"StillImage\":\n",
    "                    part = media.get(\"description\", \"Desconhecido\")\n",
    "                    images_info.append((media[\"identifier\"], part))\n",
    "    \n",
    "    print(f\"Encontradas {len(images_info)} imagens.\")\n",
    "    return data, images_info "
   ]
  }
 ],
 "metadata": {
  "kernelspec": {
   "display_name": ".venv",
   "language": "python",
   "name": "python3"
  },
  "language_info": {
   "codemirror_mode": {
    "name": "ipython",
    "version": 3
   },
   "file_extension": ".py",
   "mimetype": "text/x-python",
   "name": "python",
   "nbconvert_exporter": "python",
   "pygments_lexer": "ipython3",
   "version": "3.12.3"
  }
 },
 "nbformat": 4,
 "nbformat_minor": 2
}
